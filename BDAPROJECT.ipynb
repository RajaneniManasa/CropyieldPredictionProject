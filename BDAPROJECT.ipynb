{
  "nbformat": 4,
  "nbformat_minor": 0,
  "metadata": {
    "colab": {
      "name": "colabproject.ipynb",
      "provenance": [],
      "collapsed_sections": []
    },
    "kernelspec": {
      "name": "python3",
      "display_name": "Python 3"
    },
    "language_info": {
      "name": "python"
    },
    "accelerator": "GPU"
  },
  "cells": [
    {
      "cell_type": "code",
      "metadata": {
        "id": "-DVPevOsUteL"
      },
      "source": [
        "import pandas as pd\n",
        "import pylab as pl\n",
        "import numpy as np\n",
        "import matplotlib.pyplot as plt\n",
        "from datetime import datetime\n",
        "from sklearn.impute import SimpleImputer\n",
        "imputer = SimpleImputer(missing_values=np.nan, strategy='mean')\n",
        "from sklearn import model_selection\n",
        "from sklearn import metrics\n",
        "from sklearn import preprocessing\n",
        "from sklearn.linear_model import LinearRegression\n",
        "from sklearn.svm import SVC\n",
        "from sklearn.model_selection import StratifiedKFold, train_test_split\n",
        "from sklearn.model_selection import GridSearchCV\n",
        "from sklearn.metrics import accuracy_score\n",
        "from sklearn.model_selection import learning_curve\n",
        "from sklearn.metrics import classification_report\n",
        "from sklearn.metrics import confusion_matrix\n",
        "from sklearn.ensemble import RandomForestClassifier"
      ],
      "execution_count": 1,
      "outputs": []
    },
    {
      "cell_type": "code",
      "metadata": {
        "id": "IFFtLCNoVZ6l"
      },
      "source": [
        "def train(X_train,y_train,X_test):\n",
        " \"\"\" Trains and predicts dataset with a Random Forest classifier \"\"\"\n",
        " clf=RandomForestClassifier(n_estimators=40,oob_score=True)\n",
        " clf.fit(X_train,y_train)\n",
        " print(\"The best classifier is: \",clf)\n",
        " scores = model_selection.cross_val_score(clf, X_train,y_train, cv=5)\n",
        " print(scores)\n",
        " print('Estimated score: %0.5f (+/- %0.5f)' % (scores.mean(), scores.std() / 2))\n",
        " title = 'Learning Curves (Random Forest)'\n",
        " y_pred = clf.predict(X_test)\n",
        " return y_test,y_pred\n",
        " return y_test,y_pred\n"
      ],
      "execution_count": 2,
      "outputs": []
    },
    {
      "cell_type": "code",
      "metadata": {
        "colab": {
          "base_uri": "https://localhost:8080/",
          "height": 984
        },
        "id": "6IoM0pVAVysP",
        "outputId": "e3bba5e2-248f-4d73-9cfa-f3bdc93c3e88"
      },
      "source": [
        "def plot_confusion_matrix(cm, title='Confusion matrix', cmap=plt.cm.Blues):\n",
        " target_names=['Rice','Wheat','grams','pulses','corn']\n",
        " plt.imshow(cm, interpolation='nearest', cmap=cmap)\n",
        " plt.title(title)\n",
        " plt.colorbar()\n",
        " tick_marks = np.arange(len(target_names))\n",
        " plt.xticks(tick_marks, target_names, rotation=45)\n",
        " plt.yticks(tick_marks, target_names)\n",
        " plt.tight_layout()\n",
        " plt.ylabel('True label')\n",
        " plt.xlabel('Predicted label')\n",
        " plt.show()\n",
        "mydata=pd.read_csv(\"/content/finalyield.csv\")\n",
        "mydata[0:11]\n",
        "print(len(mydata))\n",
        "X=mydata[[ 'Moisture','rainfall','Average Humidity','Mean Temp','max Temp','Min temp','alkaline','sandy','chalky','clay']].values\n",
        "print(X.shape)\n",
        "X[0:9]\n",
        "y=mydata[\"millet yield\"]\n",
        "print(y.shape)\n",
        "y[0:11]\n",
        "print(\"spliting datasets in train and test dataset...\\n\")\n",
        "X_train,X_test,y_train,y_test = train_test_split(X, y, test_size=0.20, random_state=44)\n",
        "print(\"training datasets.......\\n\")\n",
        "y_test,y_pred = train(X_train,y_train,X_test)\n",
        "plt.figure(figsize=(5,2))\n",
        "x = y_test\n",
        "plt.hist (x, bins = 20, color = \"green\")\n",
        "plt.title (\"Crop yield Prediction\")\n",
        "plt.xlabel (\"crop\")\n",
        "plt.ylabel (\"Count\")\n",
        "plt.show ()\n",
        "print ('Classification Accuracy on Test dataset: ' ,accuracy_score(y_test, y_pred))\n",
        "cm=confusion_matrix (y_test, y_pred)\n",
        "plot_confusion_matrix (cm)\n",
        "print('Confusion matrix, without normalization')\n",
        "print(cm)\n",
        "print(metrics.classification_report(y_test,y_pred))"
      ],
      "execution_count": 3,
      "outputs": [
        {
          "output_type": "stream",
          "name": "stdout",
          "text": [
            "3977\n",
            "(3977, 10)\n",
            "(3977,)\n",
            "spliting datasets in train and test dataset...\n",
            "\n",
            "training datasets.......\n",
            "\n",
            "The best classifier is:  RandomForestClassifier(n_estimators=40, oob_score=True)\n",
            "[0.99843014 0.99213836 0.99685535 0.99213836 0.99213836]\n",
            "Estimated score: 0.99434 (+/- 0.00137)\n"
          ]
        },
        {
          "output_type": "display_data",
          "data": {
            "image/png": "[encoded data removed]",
            "text/plain": [
              "<Figure size 360x144 with 1 Axes>"
            ]
          },
          "metadata": {
            "needs_background": "light"
          }
        },
        {
          "output_type": "stream",
          "name": "stdout",
          "text": [
            "Classification Accuracy on Test dataset:  0.9949748743718593\n"
          ]
        },
        {
          "output_type": "display_data",
          "data": {
            "image/png": "[encoded data removed]",
            "text/plain": [
              "<Figure size 432x288 with 2 Axes>"
            ]
          },
          "metadata": {
            "needs_background": "light"
          }
        },
        {
          "output_type": "stream",
          "name": "stdout",
          "text": [
            "Confusion matrix, without normalization\n",
            "[[256   0   0   0   2]\n",
            " [  0 134   0   0   0]\n",
            " [  1   0 154   0   0]\n",
            " [  1   0   0   5   0]\n",
            " [  0   0   0   0 243]]\n",
            "              precision    recall  f1-score   support\n",
            "\n",
            "         0.0       0.99      0.99      0.99       258\n",
            "         1.0       1.00      1.00      1.00       134\n",
            "         2.0       1.00      0.99      1.00       155\n",
            "         3.0       1.00      0.83      0.91         6\n",
            "         4.0       0.99      1.00      1.00       243\n",
            "\n",
            "    accuracy                           0.99       796\n",
            "   macro avg       1.00      0.96      0.98       796\n",
            "weighted avg       0.99      0.99      0.99       796\n",
            "\n"
          ]
        }
      ]
    },
    {
      "cell_type": "code",
      "metadata": {
        "id": "Q2VhdKOhgu1h"
      },
      "source": [
        "import pandas as pd\n",
        "import numpy as np\n",
        "from sklearn import preprocessing\n",
        "from sklearn.model_selection import train_test_split\n",
        "mydata=pd.read_csv(\"/content/finalyield.csv\")"
      ],
      "execution_count": 4,
      "outputs": []
    },
    {
      "cell_type": "code",
      "metadata": {
        "colab": {
          "base_uri": "https://localhost:8080/",
          "height": 383
        },
        "id": "KxsMiVVRiu6r",
        "outputId": "1b781bd2-fcd2-44f1-8107-2888fd73e1d5"
      },
      "source": [
        "!pip install scikit-learn==0.22\n",
        "!conda install scikit-learn=0.22"
      ],
      "execution_count": 5,
      "outputs": [
        {
          "output_type": "stream",
          "name": "stdout",
          "text": [
            "Collecting scikit-learn==0.22\n",
            "  Downloading scikit_learn-0.22-cp37-cp37m-manylinux1_x86_64.whl (7.0 MB)\n",
            "\u001b[K     |████████████████████████████████| 7.0 MB 4.6 MB/s \n",
            "\u001b[?25hRequirement already satisfied: scipy>=0.17.0 in /usr/local/lib/python3.7/dist-packages (from scikit-learn==0.22) (1.4.1)\n",
            "Requirement already satisfied: joblib>=0.11 in /usr/local/lib/python3.7/dist-packages (from scikit-learn==0.22) (1.1.0)\n",
            "Requirement already satisfied: numpy>=1.11.0 in /usr/local/lib/python3.7/dist-packages (from scikit-learn==0.22) (1.19.5)\n",
            "Installing collected packages: scikit-learn\n",
            "  Attempting uninstall: scikit-learn\n",
            "    Found existing installation: scikit-learn 1.0.1\n",
            "    Uninstalling scikit-learn-1.0.1:\n",
            "      Successfully uninstalled scikit-learn-1.0.1\n",
            "\u001b[31mERROR: pip's dependency resolver does not currently take into account all the packages that are installed. This behaviour is the source of the following dependency conflicts.\n",
            "imbalanced-learn 0.8.1 requires scikit-learn>=0.24, but you have scikit-learn 0.22 which is incompatible.\u001b[0m\n",
            "Successfully installed scikit-learn-0.22\n"
          ]
        },
        {
          "output_type": "display_data",
          "data": {
            "application/vnd.colab-display-data+json": {
              "pip_warning": {
                "packages": [
                  "sklearn"
                ]
              }
            }
          },
          "metadata": {}
        },
        {
          "output_type": "stream",
          "name": "stdout",
          "text": [
            "/bin/bash: conda: command not found\n"
          ]
        }
      ]
    },
    {
      "cell_type": "code",
      "metadata": {
        "id": "gK8c9O4yyMdF",
        "colab": {
          "base_uri": "https://localhost:8080/"
        },
        "outputId": "2a0cb5fc-f98f-48bb-b378-25b16b884370"
      },
      "source": [
        "X=mydata[['Moisture','rainfall','Average Humidity','Mean Temp','max Temp','Min temp','alkaline','sandy','chalky','clay']].values\n",
        "print(X.shape)\n",
        "X[0:10]\n",
        "y = mydata[\"millet yield\"]\n",
        "print(y.shape)\n",
        "y[0:11]\n",
        "X_train, X_test, y_train, y_test = train_test_split( X, y, test_size=0.2, random_state=4)\n",
        "print ('Train set:', X_train.shape, y_train.shape)\n",
        "X_train=preprocessing.scale(X_train)\n",
        "X_test=preprocessing.scale(X_test)\n",
        "print ('Test set:', X_test.shape, y_test.shape)\n",
        "from sklearn.svm import SVC\n",
        "model = SVC(kernel='linear')\n",
        "model.fit(X_train, y_train)\n",
        "y_pred = model.predict(X_test)\n",
        "y_pred[0:11]\n",
        "from sklearn.metrics import f1_score\n",
        "\n",
        "from sklearn.metrics import jaccard_score\n",
        "print(\"Avg F1-score: %.4f\" % f1_score(y_test, y_pred, average='weighted'))\n",
        "print(\"Jaccard score: %.4f\" % jaccard_score(y_test, y_pred,average='weighted'))\n",
        "from sklearn.metrics import confusion_matrix\n",
        "from sklearn import metrics\n",
        "cnf_matrix = confusion_matrix(y_test, y_pred, labels=[0,1,2,3,4])\n",
        "np.set_printoptions(precision=2)\n",
        "print (metrics.classification_report(y_test, y_pred))"
      ],
      "execution_count": 6,
      "outputs": [
        {
          "output_type": "stream",
          "name": "stdout",
          "text": [
            "(3977, 10)\n",
            "(3977,)\n",
            "Train set: (3181, 10) (3181,)\n",
            "Test set: (796, 10) (796,)\n",
            "Avg F1-score: 0.7693\n",
            "Jaccard score: 0.6314\n",
            "              precision    recall  f1-score   support\n",
            "\n",
            "         0.0       0.79      0.72      0.75       266\n",
            "         1.0       0.86      1.00      0.92       128\n",
            "         2.0       0.78      0.77      0.78       149\n",
            "         3.0       0.57      0.80      0.67         5\n",
            "         4.0       0.70      0.71      0.70       248\n",
            "\n",
            "    accuracy                           0.77       796\n",
            "   macro avg       0.74      0.80      0.77       796\n",
            "weighted avg       0.77      0.77      0.77       796\n",
            "\n"
          ]
        }
      ]
    },
    {
      "cell_type": "code",
      "metadata": {
        "id": "uIERQrzmybtP"
      },
      "source": [
        "import pandas as pd\n",
        "import pylab as pl\n",
        "import numpy as np\n",
        "import matplotlib.pyplot as plt\n",
        "from sklearn import preprocessing"
      ],
      "execution_count": 7,
      "outputs": []
    },
    {
      "cell_type": "code",
      "metadata": {
        "id": "4qcuxPWkyhIP",
        "colab": {
          "base_uri": "https://localhost:8080/",
          "height": 1000
        },
        "outputId": "f5cb0933-6f46-402e-ab23-bdc6098711a0"
      },
      "source": [
        "def plot_confusion_matrix(cm, title='Confusion matrix', cmap=plt.cm.Blues):\n",
        " target_names=['Rice','Wheat','flour','blackgram']\n",
        " plt.imshow(cm, interpolation='nearest', cmap=cmap)\n",
        " plt.title(title)\n",
        " plt.colorbar()\n",
        " tick_marks = np.arange(len(target_names))\n",
        " plt.xticks(tick_marks, target_names, rotation=45)\n",
        " plt.yticks(tick_marks, target_names)\n",
        " plt.tight_layout()\n",
        " plt.ylabel('True label')\n",
        " plt.xlabel('Predicted label')\n",
        "mydata=pd.read_csv(\"/content/finalyield.csv\")\n",
        "mydata[0:11]\n",
        "print (len(mydata))\n",
        "print(mydata)\n",
        "X=mydata[['Moisture','rainfall','Average Humidity','Mean Temp','max Temp','alkaline','sandy','chalky','clay']].values\n",
        "print(X.shape)\n",
        "X[0:10]\n",
        "y=mydata[\"millet yield\"]\n",
        "print(y.shape)\n",
        "y[0:11]\n",
        "#from sklearn.cross_validation import train_test_split\n",
        "from sklearn.model_selection import train_test_split\n",
        "X_trainset,X_testset,y_trainset,y_testset=train_test_split(X,y,test_size=0.2,random_state=4)\n",
        "print('Trainset:',X_trainset.shape,y_trainset.shape) #rows matches\n",
        "print('Testset:',X_testset.shape,y_testset.shape)\n",
        "from sklearn.linear_model import LogisticRegression\n",
        "from sklearn.metrics import confusion_matrix\n",
        "lr_model = LogisticRegression(C=0.7, random_state=42) # create random forest object\n",
        "lr_model.fit(X_trainset, y_trainset.ravel())\n",
        "from sklearn import metrics\n",
        "lr_predict_test = lr_model.predict(X_testset)\n",
        "print(lr_predict_test)\n",
        "# training metrics\n",
        "print(\"Accuracy : {0:.4f}\".format(metrics.accuracy_score(y_testset, lr_predict_test)))\n",
        "print()\n",
        "print (\"Confusion Matrix\")\n",
        "print (\"{0}\".format (metrics.confusion_matrix(y_testset,lr_predict_test)))\n",
        "cm=metrics.confusion_matrix (y_testset, lr_predict_test)\n",
        "plot_confusion_matrix (cm)\n",
        "print(\" \")\n",
        "print(\" Classification Report \")\n",
        "print(metrics.classification_report(y_testset, lr_predict_test))"
      ],
      "execution_count": 8,
      "outputs": [
        {
          "output_type": "stream",
          "name": "stdout",
          "text": [
            "3977\n",
            "      Unnamed: 0   Moisture  rainfall  ...  chalky  clay  millet yield\n",
            "0              0  12.801685  0.012360  ...       1     0           0.0\n",
            "1              1  12.851654  0.004172  ...       0     0           0.0\n",
            "2              2  12.776773  0.000000  ...       0     1           1.0\n",
            "3              3  12.942001  0.031747  ...       0     1           1.0\n",
            "4              4  12.984652  0.000000  ...       1     0           4.0\n",
            "...          ...        ...       ...  ...     ...   ...           ...\n",
            "3972        3972  12.959730  0.000000  ...       0     0           4.0\n",
            "3973        3973  12.985416  0.000000  ...       0     0           4.0\n",
            "3974        3974  12.947405  0.000300  ...       0     1           0.0\n",
            "3975        3975  12.771689  0.000000  ...       0     0           4.0\n",
            "3976        3976  12.845779  0.010131  ...       0     0           0.0\n",
            "\n",
            "[3977 rows x 12 columns]\n",
            "(3977, 9)\n",
            "(3977,)\n",
            "Trainset: (3181, 9) (3181,)\n",
            "Testset: (796, 9) (796,)\n"
          ]
        },
        {
          "output_type": "stream",
          "name": "stderr",
          "text": [
            "/usr/local/lib/python3.7/dist-packages/sklearn/linear_model/_logistic.py:818: ConvergenceWarning: lbfgs failed to converge (status=1):\n",
            "STOP: TOTAL NO. of ITERATIONS REACHED LIMIT.\n",
            "\n",
            "Increase the number of iterations (max_iter) or scale the data as shown in:\n",
            "    https://scikit-learn.org/stable/modules/preprocessing.html\n",
            "Please also refer to the documentation for alternative solver options:\n",
            "    https://scikit-learn.org/stable/modules/linear_model.html#logistic-regression\n",
            "  check_consistent_length(X, y)\n",
            "/usr/local/lib/python3.7/dist-packages/sklearn/metrics/_classification.py:1308: UndefinedMetricWarning: Precision and F-score are ill-defined and being set to 0.0 in labels with no predicted samples. Use `zero_division` parameter to control this behavior.\n",
            "  if y_type == 'multiclass':\n",
            "/usr/local/lib/python3.7/dist-packages/sklearn/metrics/_classification.py:1308: UndefinedMetricWarning: Precision and F-score are ill-defined and being set to 0.0 in labels with no predicted samples. Use `zero_division` parameter to control this behavior.\n",
            "  if y_type == 'multiclass':\n",
            "/usr/local/lib/python3.7/dist-packages/sklearn/metrics/_classification.py:1308: UndefinedMetricWarning: Precision and F-score are ill-defined and being set to 0.0 in labels with no predicted samples. Use `zero_division` parameter to control this behavior.\n",
            "  if y_type == 'multiclass':\n"
          ]
        },
        {
          "output_type": "stream",
          "name": "stdout",
          "text": [
            "[2. 4. 1. 0. 2. 4. 0. 4. 4. 4. 0. 0. 0. 1. 1. 4. 4. 1. 2. 0. 0. 0. 4. 2.\n",
            " 2. 1. 1. 4. 0. 0. 1. 1. 2. 2. 4. 0. 0. 0. 2. 2. 4. 2. 4. 2. 2. 4. 4. 2.\n",
            " 1. 4. 4. 0. 1. 4. 2. 0. 4. 0. 4. 2. 2. 4. 2. 2. 2. 0. 4. 1. 4. 0. 4. 2.\n",
            " 4. 0. 0. 0. 0. 0. 2. 0. 4. 0. 4. 4. 4. 0. 0. 0. 0. 4. 4. 4. 1. 0. 1. 1.\n",
            " 4. 0. 1. 1. 2. 0. 2. 1. 1. 0. 4. 0. 0. 4. 0. 4. 0. 1. 0. 4. 1. 0. 4. 4.\n",
            " 2. 2. 0. 4. 1. 1. 4. 0. 0. 0. 0. 0. 0. 4. 0. 4. 2. 4. 0. 4. 0. 0. 0. 1.\n",
            " 4. 2. 4. 4. 4. 4. 2. 1. 2. 4. 2. 2. 0. 2. 1. 2. 0. 1. 4. 1. 1. 4. 0. 2.\n",
            " 2. 0. 0. 1. 1. 4. 1. 0. 4. 4. 0. 1. 4. 4. 0. 1. 4. 0. 0. 1. 2. 1. 4. 0.\n",
            " 2. 0. 4. 4. 1. 4. 4. 2. 0. 2. 0. 4. 2. 2. 2. 4. 1. 0. 2. 0. 2. 0. 0. 0.\n",
            " 2. 2. 1. 0. 0. 0. 0. 0. 2. 4. 1. 0. 0. 4. 4. 0. 4. 4. 4. 1. 1. 2. 2. 0.\n",
            " 0. 4. 0. 4. 4. 2. 4. 0. 0. 1. 1. 0. 1. 1. 2. 4. 2. 1. 0. 4. 1. 0. 0. 1.\n",
            " 4. 2. 0. 1. 4. 1. 0. 0. 2. 4. 4. 0. 0. 2. 0. 2. 1. 2. 2. 2. 2. 2. 0. 1.\n",
            " 4. 1. 0. 2. 0. 0. 0. 0. 0. 4. 4. 4. 2. 1. 0. 2. 4. 1. 2. 1. 4. 4. 0. 1.\n",
            " 2. 4. 1. 4. 2. 2. 0. 0. 1. 0. 0. 0. 0. 1. 0. 1. 2. 0. 4. 0. 1. 4. 0. 0.\n",
            " 0. 2. 4. 0. 0. 1. 2. 0. 0. 1. 1. 1. 2. 0. 0. 2. 0. 2. 4. 1. 0. 0. 0. 4.\n",
            " 4. 1. 0. 0. 0. 0. 4. 0. 0. 1. 0. 2. 2. 4. 4. 2. 0. 4. 4. 1. 0. 0. 2. 0.\n",
            " 1. 4. 1. 2. 4. 0. 0. 0. 1. 0. 0. 2. 0. 1. 2. 0. 2. 1. 1. 2. 4. 0. 2. 0.\n",
            " 1. 4. 2. 0. 2. 0. 0. 4. 0. 0. 4. 0. 0. 0. 0. 0. 2. 0. 0. 1. 4. 0. 0. 4.\n",
            " 0. 1. 2. 0. 4. 1. 2. 4. 4. 0. 1. 1. 2. 1. 0. 2. 4. 1. 4. 4. 1. 4. 4. 1.\n",
            " 2. 4. 2. 0. 4. 0. 4. 4. 4. 4. 0. 4. 2. 2. 2. 2. 0. 4. 1. 0. 0. 4. 2. 0.\n",
            " 2. 0. 1. 4. 4. 4. 4. 2. 1. 4. 0. 1. 0. 2. 4. 0. 2. 1. 2. 4. 0. 0. 2. 1.\n",
            " 4. 0. 2. 0. 0. 0. 4. 1. 0. 2. 2. 0. 2. 0. 1. 2. 0. 4. 0. 1. 0. 1. 0. 2.\n",
            " 0. 1. 1. 4. 1. 0. 0. 2. 2. 2. 4. 0. 0. 4. 2. 1. 0. 0. 2. 2. 1. 0. 2. 2.\n",
            " 4. 1. 0. 0. 4. 2. 0. 2. 0. 0. 4. 1. 0. 0. 1. 1. 4. 2. 1. 0. 2. 4. 2. 2.\n",
            " 2. 2. 0. 0. 0. 2. 0. 0. 0. 4. 4. 0. 2. 4. 1. 2. 2. 4. 0. 2. 0. 0. 2. 4.\n",
            " 0. 4. 0. 1. 0. 0. 2. 0. 0. 0. 4. 4. 0. 4. 0. 4. 2. 2. 0. 1. 2. 0. 4. 4.\n",
            " 1. 4. 4. 2. 0. 2. 1. 0. 4. 2. 4. 1. 4. 0. 4. 4. 1. 0. 4. 1. 4. 2. 4. 4.\n",
            " 4. 2. 1. 0. 1. 1. 4. 2. 2. 2. 1. 4. 2. 4. 4. 4. 0. 1. 1. 0. 0. 0. 0. 1.\n",
            " 0. 1. 2. 4. 0. 0. 0. 1. 0. 0. 2. 0. 4. 4. 0. 1. 0. 0. 2. 0. 0. 4. 0. 0.\n",
            " 2. 0. 0. 1. 4. 2. 0. 0. 2. 0. 1. 0. 4. 1. 4. 2. 0. 0. 0. 1. 2. 4. 0. 4.\n",
            " 0. 0. 4. 0. 1. 1. 0. 4. 1. 2. 1. 4. 1. 4. 4. 4. 1. 4. 4. 1. 4. 0. 0. 2.\n",
            " 0. 0. 2. 4. 2. 4. 0. 0. 4. 2. 2. 4. 2. 1. 2. 4. 0. 4. 1. 1. 1. 2. 4. 0.\n",
            " 4. 4. 1. 0. 2. 1. 1. 0. 0. 0. 4. 4. 4. 1. 0. 0. 0. 1. 4. 0. 1. 2. 4. 0.\n",
            " 0. 4. 4. 0.]\n",
            "Accuracy : 0.6043\n",
            "\n",
            "Confusion Matrix\n",
            "[[171   2  17   0  76]\n",
            " [  0 128   0   0   0]\n",
            " [  0  10  95   0  44]\n",
            " [  0   0   5   0   0]\n",
            " [109   5  47   0  87]]\n",
            " \n",
            " Classification Report \n",
            "              precision    recall  f1-score   support\n",
            "\n",
            "         0.0       0.61      0.64      0.63       266\n",
            "         1.0       0.88      1.00      0.94       128\n",
            "         2.0       0.58      0.64      0.61       149\n",
            "         3.0       0.00      0.00      0.00         5\n",
            "         4.0       0.42      0.35      0.38       248\n",
            "\n",
            "    accuracy                           0.60       796\n",
            "   macro avg       0.50      0.53      0.51       796\n",
            "weighted avg       0.59      0.60      0.59       796\n",
            "\n"
          ]
        },
        {
          "output_type": "display_data",
          "data": {
            "image/png": "[encoded data removed]",
            "text/plain": [
              "<Figure size 432x288 with 2 Axes>"
            ]
          },
          "metadata": {
            "needs_background": "light"
          }
        }
      ]
    }
  ]
}